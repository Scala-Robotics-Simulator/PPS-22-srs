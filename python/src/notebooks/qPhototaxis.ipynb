{
 "cells": [
  {
   "cell_type": "markdown",
   "metadata": {},
   "source": [
    "# Q-Learning for Phototaxis Task - Original Complex Reward\n",
    "\n",
    "This notebook uses the **Phototaxis** (original fixed) reward variant.\n",
    "\n",
    "**Reward Components:**\n",
    "- Progress reward (+10× distance improvement)\n",
    "- Proximity reward (exponential, rewards being close)\n",
    "- Goal bonus (+100 when reaching light)\n",
    "- Obstacle penalty (-10× proximity violation)\n",
    "- Movement penalties (spinning -1.0, oscillation -0.1×)\n",
    "- Forward bonus (+0.2)\n",
    "- Survival reward (logarithmic, small)\n",
    "\n",
    "**Best for:** Fine-grained control, advanced experiments\n",
    "\n",
    "**Note:** This is the most complex reward with many tunable components."
   ]
  },
  {
   "cell_type": "code",
   "metadata": {
    "ExecuteTime": {
     "end_time": "2025-10-29T13:06:03.304741Z",
     "start_time": "2025-10-29T13:06:03.300878Z"
    }
   },
   "source": [
    "import sys\n",
    "sys.path.append(\"..\")"
   ],
   "outputs": [],
   "execution_count": 1
  },
  {
   "metadata": {
    "ExecuteTime": {
     "end_time": "2025-10-29T13:06:03.509921Z",
     "start_time": "2025-10-29T13:06:03.503419Z"
    }
   },
   "cell_type": "code",
   "source": [
    "import nest_asyncio\n",
    "nest_asyncio.apply()"
   ],
   "outputs": [],
   "execution_count": 2
  },
  {
   "cell_type": "code",
   "metadata": {
    "ExecuteTime": {
     "end_time": "2025-10-29T13:06:03.525834Z",
     "start_time": "2025-10-29T13:06:03.516440Z"
    }
   },
   "source": "from tqdm import trange",
   "outputs": [],
   "execution_count": 3
  },
  {
   "cell_type": "code",
   "metadata": {
    "ExecuteTime": {
     "end_time": "2025-10-29T13:06:03.695685Z",
     "start_time": "2025-10-29T13:06:03.533754Z"
    }
   },
   "source": [
    "from environment.qlearning.phototaxis_env import PhototaxisEnv\n",
    "from utils.reader import get_yaml_path, read_file"
   ],
   "outputs": [],
   "execution_count": 4
  },
  {
   "cell_type": "code",
   "metadata": {
    "ExecuteTime": {
     "end_time": "2025-10-29T13:06:04.319783Z",
     "start_time": "2025-10-29T13:06:04.311796Z"
    }
   },
   "source": [
    "from agent.qagent import QAgent\n",
    "from training.qlearning import QLearning"
   ],
   "outputs": [],
   "execution_count": 5
  },
  {
   "cell_type": "code",
   "metadata": {
    "ExecuteTime": {
     "end_time": "2025-10-29T13:06:04.658576Z",
     "start_time": "2025-10-29T13:06:04.605931Z"
    }
   },
   "source": [
    "import pygame\n",
    "import numpy as np"
   ],
   "outputs": [],
   "execution_count": 6
  },
  {
   "cell_type": "markdown",
   "metadata": {},
   "source": [
    "## Connect to Simulator"
   ]
  },
  {
   "cell_type": "code",
   "metadata": {
    "ExecuteTime": {
     "end_time": "2025-10-29T13:06:07.808892Z",
     "start_time": "2025-10-29T13:06:07.773536Z"
    }
   },
   "source": [
    "server_address = \"localhost:50051\"\n",
    "client_name = \"PhototaxisRLClient\"\n",
    "env = PhototaxisEnv(server_address, client_name)\n",
    "env.connect_to_client()"
   ],
   "outputs": [
    {
     "name": "stdout",
     "output_type": "stream",
     "text": [
      "2025-10-29 14:06:07,806 — INFO — ✓ Connected to localhost:50051\n",
      "\n"
     ]
    }
   ],
   "execution_count": 7
  },
  {
   "cell_type": "markdown",
   "metadata": {},
   "source": [
    "## Load Configuration - Original Complex Reward"
   ]
  },
  {
   "cell_type": "code",
   "metadata": {
    "ExecuteTime": {
     "end_time": "2025-10-29T13:06:13.071953Z",
     "start_time": "2025-10-29T13:06:13.067953Z"
    }
   },
   "source": [
    "config_path = get_yaml_path(\"resources\", \"configurations\", \"phototaxis.yml\")\n",
    "config = read_file(config_path)\n",
    "\n",
    "# print(config)"
   ],
   "outputs": [],
   "execution_count": 8
  },
  {
   "cell_type": "code",
   "metadata": {
    "ExecuteTime": {
     "end_time": "2025-10-29T13:06:14.129458Z",
     "start_time": "2025-10-29T13:06:14.112457Z"
    }
   },
   "source": "env.init(config)",
   "outputs": [
    {
     "name": "stdout",
     "output_type": "stream",
     "text": [
      "2025-10-29 14:06:14,126 — INFO — ✓ Initialization successful\n"
     ]
    }
   ],
   "execution_count": 9
  },
  {
   "cell_type": "markdown",
   "metadata": {},
   "source": "## Training Parameters"
  },
  {
   "cell_type": "code",
   "metadata": {
    "ExecuteTime": {
     "end_time": "2025-10-29T13:25:55.836257Z",
     "start_time": "2025-10-29T13:25:55.833248Z"
    }
   },
   "source": [
    "episodes = 10\n",
    "steps = 5000"
   ],
   "outputs": [],
   "execution_count": 25
  },
  {
   "cell_type": "markdown",
   "metadata": {},
   "source": [
    "## Create Agent"
   ]
  },
  {
   "cell_type": "code",
   "metadata": {
    "ExecuteTime": {
     "end_time": "2025-10-29T13:06:22.325685Z",
     "start_time": "2025-10-29T13:06:22.322249Z"
    }
   },
   "source": [
    "agent = QAgent(env, episodes = episodes)\n",
    "agentId = \"00000000-0000-0000-0000-000000000001\"\n",
    "agents = { agentId: agent }"
   ],
   "outputs": [],
   "execution_count": 11
  },
  {
   "metadata": {},
   "cell_type": "markdown",
   "source": [
    "## Training Loop\n",
    "\n"
   ]
  },
  {
   "cell_type": "code",
   "metadata": {
    "ExecuteTime": {
     "end_time": "2025-10-29T13:25:58.978418Z",
     "start_time": "2025-10-29T13:25:58.967038Z"
    }
   },
   "source": [
    "def run_episodes(\n",
    "    episode_count, \n",
    "    episode_max_steps, \n",
    "    render=False, \n",
    "    fps=60,\n",
    "    checkpoint_interval=None,\n",
    "    checkpoint_path=\"checkpoints/phototaxis_agent\",\n",
    "    load_checkpoint=None,\n",
    "    start_episode=0\n",
    "):\n",
    "    import os\n",
    "    \n",
    "    # Load existing agent if specified\n",
    "    if load_checkpoint:\n",
    "        for agent_id, agent_obj in agents.items():\n",
    "            agent_obj.load(load_checkpoint)\n",
    "            print(f\"Loaded agent from {load_checkpoint}\")\n",
    "    \n",
    "    # Create checkpoint directory if needed\n",
    "    if checkpoint_interval:\n",
    "        os.makedirs(os.path.dirname(checkpoint_path) if os.path.dirname(checkpoint_path) else \".\", exist_ok=True)\n",
    "    \n",
    "    running = True\n",
    "    paused = False\n",
    "    current_fps = fps\n",
    "    \n",
    "    # Initialize pygame for rendering\n",
    "    if render:\n",
    "        pygame.init()\n",
    "        screen = pygame.display.set_mode((800, 600))\n",
    "        pygame.display.set_caption(f\"Q-Learning Phototaxis - FPS: {current_fps}\")\n",
    "        clock = pygame.time.Clock()\n",
    "        \n",
    "        # Font for displaying info\n",
    "        try:\n",
    "            font = pygame.font.Font(None, 24)\n",
    "            info_font = pygame.font.Font(None, 20)\n",
    "        except:\n",
    "            font = None\n",
    "            info_font = None\n",
    "    \n",
    "    try:\n",
    "        for ep_idx in trange(episode_count, desc=\"Training\", unit=\"ep\"):\n",
    "            actual_episode = start_episode + ep_idx\n",
    "            obs, _ = env.reset()\n",
    "            done = False\n",
    "            total_reward = {agentId: 0}\n",
    "            step_count = 0\n",
    "            \n",
    "            while not done and step_count < episode_max_steps:\n",
    "                # Handle pygame events\n",
    "                if render:\n",
    "                    for event in pygame.event.get():\n",
    "                        if event.type == pygame.QUIT:\n",
    "                            running = False\n",
    "                        elif event.type == pygame.KEYDOWN:\n",
    "                            if event.key == pygame.K_ESCAPE or event.key == pygame.K_q:\n",
    "                                running = False\n",
    "                            elif event.key == pygame.K_SPACE:\n",
    "                                paused = not paused\n",
    "                            elif event.key == pygame.K_UP:\n",
    "                                current_fps = min(240, current_fps + 10)\n",
    "                                pygame.display.set_caption(f\"Q-Learning Phototaxis - FPS: {current_fps}\")\n",
    "                            elif event.key == pygame.K_DOWN:\n",
    "                                current_fps = max(10, current_fps - 10)\n",
    "                                pygame.display.set_caption(f\"Q-Learning Phototaxis - FPS: {current_fps}\")\n",
    "                            elif event.key == pygame.K_s:\n",
    "                                # Manual save\n",
    "                                for agent_id, agent_obj in agents.items():\n",
    "                                    save_path = f\"{checkpoint_path}_manual_ep{actual_episode}\"\n",
    "                                    agent_obj.save(save_path)\n",
    "                                    print(f\"\\n[Manual Save] Episode {actual_episode}\")\n",
    "                \n",
    "                if not running:\n",
    "                    break\n",
    "                \n",
    "                # Skip step if paused\n",
    "                if paused and render:\n",
    "                    pygame.time.wait(100)\n",
    "                    continue\n",
    "                \n",
    "                # Choose and execute actions\n",
    "                actions = {\n",
    "                    k: agents[k].choose_action(v, epsilon_greedy=not render) \n",
    "                    for k, v in obs.items()\n",
    "                }\n",
    "                next_obs, rewards, terminateds, truncateds, _ = env.step(actions)\n",
    "                \n",
    "                done = terminateds[agentId] or truncateds[agentId]\n",
    "                \n",
    "                # Update Q-table (only during training)\n",
    "                if not render:\n",
    "                    for k in next_obs.keys():\n",
    "                        agents[k].update_q(obs[k], actions[k], rewards[k], next_obs[k], done)\n",
    "                        total_reward[k] += rewards[k]\n",
    "                else:\n",
    "                    # Track reward even during rendering\n",
    "                    total_reward[agentId] += rewards[agentId]\n",
    "                \n",
    "                obs = next_obs\n",
    "                \n",
    "                # Render visualization\n",
    "                if render:\n",
    "                    rgb_array = env.render()\n",
    "                    surface = pygame.surfarray.make_surface(np.transpose(rgb_array, (1, 0, 2)))\n",
    "                    screen.blit(surface, (0, 0))\n",
    "                    \n",
    "                    # Display info overlay\n",
    "                    if font and info_font:\n",
    "                        info_texts = [\n",
    "                            f\"Episode: {actual_episode + 1}/{start_episode + episode_count}\",\n",
    "                            f\"Step: {step_count}/{episode_max_steps}\",\n",
    "                            f\"Reward: {total_reward[agentId]:.2f}\",\n",
    "                            f\"Epsilon: {agents[agentId].epsilon:.4f}\",\n",
    "                            f\"FPS: {current_fps} (↑/↓ to adjust)\",\n",
    "                            f\"{'PAUSED' if paused else 'SPACE: Pause'}\"\n",
    "                        ]\n",
    "                        \n",
    "                        y_offset = 10\n",
    "                        for text in info_texts:\n",
    "                            color = (255, 255, 0) if paused else (255, 255, 255)\n",
    "                            text_surface = info_font.render(text, True, color, (0, 0, 0))\n",
    "                            screen.blit(text_surface, (10, y_offset))\n",
    "                            y_offset += 25\n",
    "                    \n",
    "                    pygame.display.flip()\n",
    "                    clock.tick(current_fps)\n",
    "                \n",
    "                step_count += 1\n",
    "            \n",
    "            if not running:\n",
    "                print(\"\\nTraining interrupted by user\")\n",
    "                break\n",
    "            \n",
    "            # Decay epsilon after episode\n",
    "            for agent_obj in agents.values():\n",
    "                agent_obj.decay_epsilon(actual_episode)\n",
    "            \n",
    "            # Save checkpoint at intervals\n",
    "            if checkpoint_interval and (ep_idx + 1) % checkpoint_interval == 0:\n",
    "                for agent_id, agent_obj in agents.items():\n",
    "                    save_path = f\"{checkpoint_path}_ep{actual_episode + 1}\"\n",
    "                    agent_obj.save(save_path)\n",
    "                    print(f\"\\n[Checkpoint] Saved at episode {actual_episode + 1}\")\n",
    "    \n",
    "    finally:\n",
    "        # Cleanup pygame\n",
    "        if render:\n",
    "            pygame.quit()\n",
    "        \n",
    "        # Final save if checkpointing was enabled\n",
    "        if checkpoint_interval and running:\n",
    "            for agent_id, agent_obj in agents.items():\n",
    "                save_path = f\"{checkpoint_path}_final\"\n",
    "                agent_obj.save(save_path)\n",
    "                print(f\"\\n[Final Save] Training complete\")"
   ],
   "outputs": [],
   "execution_count": 26
  },
  {
   "cell_type": "markdown",
   "metadata": {},
   "source": "## Train the Agent with Checkpoints"
  },
  {
   "cell_type": "code",
   "metadata": {
    "ExecuteTime": {
     "end_time": "2025-10-29T13:26:05.751491Z",
     "start_time": "2025-10-29T13:25:59.564026Z"
    }
   },
   "source": [
    "run_episodes(\n",
    "    episode_count=episodes,\n",
    "    episode_max_steps=steps,\n",
    "    load_checkpoint=\"checkpoints/phototaxis_classic_final\",\n",
    "    start_episode=10,\n",
    "    checkpoint_interval=100,\n",
    "    checkpoint_path=\"checkpoints/phototaxis_classic\"\n",
    ")"
   ],
   "outputs": [
    {
     "name": "stdout",
     "output_type": "stream",
     "text": [
      "Agent loaded from checkpoints/phototaxis_classic_final.npz\n",
      "  Q-table shape: (6561, 3)\n",
      "  Current epsilon: 0.0010\n",
      "Loaded agent from checkpoints/phototaxis_classic_final\n"
     ]
    },
    {
     "name": "stderr",
     "output_type": "stream",
     "text": [
      "Training: 100%|██████████| 10/10 [00:06<00:00,  1.62ep/s]"
     ]
    },
    {
     "name": "stdout",
     "output_type": "stream",
     "text": [
      "Agent saved to checkpoints/phototaxis_classic_final.npz\n",
      "\n",
      "[Final Save] Training complete\n"
     ]
    },
    {
     "name": "stderr",
     "output_type": "stream",
     "text": [
      "\n"
     ]
    }
   ],
   "execution_count": 27
  },
  {
   "cell_type": "markdown",
   "metadata": {},
   "source": [
    "## Evaluate the Trained Agent\n",
    "\n",
    "**Keyboard Controls (during render):**\n",
    "- `↑/↓`: Adjust FPS (10-240)\n",
    "- `SPACE`: Pause/Resume\n",
    "- `S`: Manual checkpoint save\n",
    "- `ESC/Q`: Quit training"
   ]
  },
  {
   "cell_type": "code",
   "metadata": {
    "ExecuteTime": {
     "end_time": "2025-10-29T13:26:18.310885Z",
     "start_time": "2025-10-29T13:26:12.975381Z"
    }
   },
   "source": [
    "# Evaluate with rendering (use ↑/↓ to adjust speed, SPACE to pause)\n",
    "run_episodes(1, 10000, render=True, load_checkpoint=\"checkpoints/phototaxis_classic_final\")"
   ],
   "outputs": [
    {
     "name": "stdout",
     "output_type": "stream",
     "text": [
      "Agent loaded from checkpoints/phototaxis_classic_final.npz\n",
      "  Q-table shape: (6561, 3)\n",
      "  Current epsilon: 0.0010\n",
      "Loaded agent from checkpoints/phototaxis_classic_final\n"
     ]
    },
    {
     "name": "stderr",
     "output_type": "stream",
     "text": [
      "Training:   0%|          | 0/1 [00:04<?, ?ep/s]"
     ]
    },
    {
     "name": "stdout",
     "output_type": "stream",
     "text": [
      "\n",
      "Training interrupted by user\n"
     ]
    },
    {
     "name": "stderr",
     "output_type": "stream",
     "text": [
      "\n"
     ]
    }
   ],
   "execution_count": 28
  },
  {
   "cell_type": "markdown",
   "metadata": {},
   "source": "## Resume Training from Checkpoint (Optional)\n\nIf you want to continue training from a saved checkpoint, run this cell."
  },
  {
   "cell_type": "code",
   "metadata": {},
   "source": [
    "# Example: Resume from episode 200 and train for 100 more episodes\n",
    "run_episodes(\n",
    "    episode_count=100,\n",
    "    episode_max_steps=steps,\n",
    "    checkpoint_interval=25,\n",
    "    checkpoint_path=\"checkpoints/phototaxis_agent\",\n",
    "    load_checkpoint=\"checkpoints/phototaxis_agent_ep200\",\n",
    "    start_episode=200\n",
    ")"
   ],
   "outputs": [],
   "execution_count": null
  },
  {
   "metadata": {},
   "cell_type": "markdown",
   "source": "# Check Episodes from checkpoint"
  },
  {
   "metadata": {
    "ExecuteTime": {
     "end_time": "2025-10-29T13:26:24.970997Z",
     "start_time": "2025-10-29T13:26:24.966997Z"
    }
   },
   "cell_type": "code",
   "source": [
    "import numpy as np\n",
    "\n",
    "d = np.load('checkpoints/phototaxis_classic_final.npz')\n",
    "episodes = d[\"episodes\"].item()\n",
    "print(f\"Episodes: {episodes}\")\n"
   ],
   "outputs": [
    {
     "name": "stdout",
     "output_type": "stream",
     "text": [
      "Episodes: 10\n"
     ]
    }
   ],
   "execution_count": 30
  },
  {
   "cell_type": "markdown",
   "metadata": {},
   "source": "## Inspect Q-Table Statistics\n\nAfter training, check how much of the state space was explored."
  },
  {
   "cell_type": "code",
   "source": "print(f\"Q-table shape: {agent.Q.shape}\")\nprint(f\"Non-zero entries: {np.count_nonzero(agent.Q)}\")\nprint(f\"Q-table min/max: {agent.Q.min():.2f} / {agent.Q.max():.2f}\")\n\nvisited_states = np.where(np.any(agent.Q != 0, axis=1))[0]\nprint(f\"States visited: {len(visited_states)} out of {agent.Q.shape[0]}\")",
   "metadata": {},
   "outputs": [],
   "execution_count": null
  }
 ],
 "metadata": {
  "kernelspec": {
   "display_name": "Python 3",
   "language": "python",
   "name": "python3"
  },
  "language_info": {
   "codemirror_mode": {
    "name": "ipython",
    "version": 3
   },
   "file_extension": ".py",
   "mimetype": "text/x-python",
   "name": "python",
   "nbconvert_exporter": "python",
   "pygments_lexer": "ipython3",
   "version": "3.12.6"
  }
 },
 "nbformat": 4,
 "nbformat_minor": 2
}
