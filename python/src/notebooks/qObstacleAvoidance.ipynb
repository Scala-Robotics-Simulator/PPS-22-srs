{
 "cells": [
  {
   "cell_type": "code",
   "id": "ee6de078-b7c8-431d-92d8-4605b738739c",
   "metadata": {
    "editable": true,
    "slideshow": {
     "slide_type": ""
    },
    "tags": [],
    "jupyter": {
     "is_executing": true
    }
   },
   "source": [
    "import sys\n",
    "\n",
    "sys.path.append(\"..\")"
   ],
   "outputs": [],
   "execution_count": null
  },
  {
   "cell_type": "code",
   "id": "90f2f1c3-8ef3-4ddf-b08f-5e4bba0eb307",
   "metadata": {
    "ExecuteTime": {
     "end_time": "2025-10-29T13:03:22.898527Z",
     "start_time": "2025-10-29T13:03:22.891147Z"
    }
   },
   "source": [
    "import nest_asyncio\n",
    "nest_asyncio.apply()"
   ],
   "outputs": [],
   "execution_count": 2
  },
  {
   "cell_type": "code",
   "id": "ba719b97-1c3d-4d33-90cf-beb7b292b5c8",
   "metadata": {
    "ExecuteTime": {
     "end_time": "2025-10-29T13:03:22.917508Z",
     "start_time": "2025-10-29T13:03:22.908931Z"
    }
   },
   "source": [
    "from tqdm import trange"
   ],
   "outputs": [],
   "execution_count": 3
  },
  {
   "cell_type": "code",
   "id": "bb00e7ce-9b72-47e5-a7dc-8e9d85e7efd2",
   "metadata": {
    "ExecuteTime": {
     "end_time": "2025-10-29T13:03:23.117420Z",
     "start_time": "2025-10-29T13:03:22.925887Z"
    }
   },
   "source": [
    "from environment.qlearning.obstacle_avoidance_env import ObstacleAvoidanceEnv\n",
    "from utils.reader import get_yaml_path, read_file"
   ],
   "outputs": [],
   "execution_count": 4
  },
  {
   "cell_type": "code",
   "execution_count": 5,
   "id": "31d13ff2-ccde-4570-ad77-a3e4992c3c9b",
   "metadata": {},
   "outputs": [],
   "source": [
    "from agent.qagent import QAgent\n",
    "from training.qlearning import QLearning"
   ]
  },
  {
   "cell_type": "code",
   "execution_count": 6,
   "id": "d618bce7-4e63-4285-903f-27e5a9f6a220",
   "metadata": {},
   "outputs": [
    {
     "name": "stderr",
     "output_type": "stream",
     "text": [
      "<frozen importlib._bootstrap>:488: RuntimeWarning: Your system is avx2 capable but pygame was not built with support for it. The performance of some of your blits could be adversely affected. Consider enabling compile time detection with environment variables like PYGAME_DETECT_AVX2=1 if you are compiling without cross compilation.\n",
      "/nix/store/wyq2941n10p3ybrc6n759dhcjyqm0hki-python3-3.13.8-env/lib/python3.13/site-packages/pygame/pkgdata.py:25: UserWarning: pkg_resources is deprecated as an API. See https://setuptools.pypa.io/en/latest/pkg_resources.html. The pkg_resources package is slated for removal as early as 2025-11-30. Refrain from using this package or pin to Setuptools<81.\n",
      "  from pkg_resources import resource_stream, resource_exists\n"
     ]
    }
   ],
   "source": [
    "import pygame\n",
    "import numpy as np"
   ]
  },
  {
   "cell_type": "code",
   "execution_count": 7,
   "id": "9d4dd526-aca8-470b-8e71-39c8e5f8f69d",
   "metadata": {},
   "outputs": [
    {
     "name": "stdout",
     "output_type": "stream",
     "text": [
      "2025-10-28 11:56:33,950 — INFO — ✓ Connected to localhost:50051\n",
      "\n"
     ]
    }
   ],
   "source": [
    "server_address = \"localhost:50051\"\n",
    "client_name = \"RLClient\"\n",
    "env = ObstacleAvoidanceEnv(server_address, client_name)\n",
    "env.connect_to_client()"
   ]
  },
  {
   "cell_type": "code",
   "execution_count": 8,
   "id": "49b5029b-9cff-4654-9d91-023a589b4e2f",
   "metadata": {},
   "outputs": [],
   "source": [
    "config_path = get_yaml_path(\"resources\", \"configurations\", \"obstacle-avoidance.yml\")\n",
    "config = read_file(config_path)\n",
    "# print(config)"
   ]
  },
  {
   "cell_type": "code",
   "execution_count": 9,
   "id": "5f842c16-084d-4c0c-9cb0-37f877eac572",
   "metadata": {},
   "outputs": [
    {
     "name": "stdout",
     "output_type": "stream",
     "text": [
      "2025-10-28 11:56:33,968 — INFO — ✓ Initialization successful\n"
     ]
    }
   ],
   "source": [
    "env.init(config)"
   ]
  },
  {
   "cell_type": "code",
   "execution_count": 10,
   "id": "1b32fa97-4014-4358-ae95-cb333c4ac272",
   "metadata": {},
   "outputs": [],
   "source": [
    "episodes = 100\n",
    "steps = 5000"
   ]
  },
  {
   "cell_type": "code",
   "execution_count": 11,
   "id": "a6486bba-5e31-4a53-b705-af5cb01170c8",
   "metadata": {},
   "outputs": [],
   "source": [
    "agent = QAgent(env, episodes = episodes)\n",
    "agentId = \"00000000-0000-0000-0000-000000000001\"\n",
    "agents = { agentId: agent }"
   ]
  },
  {
   "cell_type": "code",
   "execution_count": 12,
   "id": "37ec7bae-12e9-4073-9d9e-31549ed226c1",
   "metadata": {},
   "outputs": [],
   "source": [
    "def run_episodes(episode_count, episode_max_steps, render = False):\n",
    "    running = True\n",
    "    \n",
    "    if render:\n",
    "        pygame.init()\n",
    "        screen = pygame.display.set_mode((800, 600))\n",
    "        pygame.display.set_caption(f\"Q-Learning obstacle avoidance\")\n",
    "        clock = pygame.time.Clock()\n",
    "    for _ep in trange(episode_count, desc=\"Training\", unit=\"ep\"):\n",
    "        obs, _ = env.reset()\n",
    "        done = False\n",
    "        total_reward = { agentId: 0 }\n",
    "        episode_history = []\n",
    "        step_count = 0\n",
    "        while not done and step_count < episode_max_steps:\n",
    "            actions = { k: agents[k].choose_action(v, epsilon_greedy = not render) for k, v in obs.items() }\n",
    "            next_obs, rewards, terminateds, truncateds, _ = env.step(actions)\n",
    "            # TODO: take other agents into consideration\n",
    "            done = terminateds[agentId] or truncateds[agentId]\n",
    "            if not render:\n",
    "                for k, _ in next_obs.items():\n",
    "                    agents[k].update_q(obs[k], actions[k], rewards[k], next_obs[k], done)\n",
    "                    total_reward[k] += rewards[k]\n",
    "            obs = next_obs\n",
    "            if render:\n",
    "                rgb_array = env.render()\n",
    "                surface = pygame.surfarray.make_surface(np.transpose(rgb_array, (1, 0, 2)))\n",
    "                screen.blit(surface, (0, 0))\n",
    "                pygame.display.flip()\n",
    "                clock.tick(60)\n",
    "            step_count += 1\n",
    "            if render:\n",
    "                for event in pygame.event.get():\n",
    "                    if event.type == pygame.QUIT:\n",
    "                        running = False\n",
    "\n",
    "            if not running:\n",
    "                break\n",
    "        for _, agent in agents.items():\n",
    "            agent.decay_epsilon(_ep)\n",
    "    if render:\n",
    "        pygame.quit()\n"
   ]
  },
  {
   "cell_type": "code",
   "execution_count": 13,
   "id": "9a8d217f-8d07-4e21-9134-8f67611cc2a9",
   "metadata": {},
   "outputs": [
    {
     "name": "stderr",
     "output_type": "stream",
     "text": [
      "Training: 100%|███████████████████████████████████████████████████████████████████████████████████████████████████████████████████████████████████████████████████████████████████████████████████████████████| 100/100 [00:45<00:00,  2.20ep/s]\n"
     ]
    }
   ],
   "source": [
    "run_episodes(episodes, steps)"
   ]
  },
  {
   "cell_type": "code",
   "execution_count": 14,
   "id": "e8a3a3a9-50a0-44c2-941b-94bb86d51c17",
   "metadata": {},
   "outputs": [
    {
     "name": "stderr",
     "output_type": "stream",
     "text": [
      "Training: 100%|███████████████████████████████████████████████████████████████████████████████████████████████████████████████████████████████████████████████████████████████████████████████████████████████████| 1/1 [00:02<00:00,  2.38s/ep]\n"
     ]
    }
   ],
   "source": [
    "run_episodes(1, 10000, True)"
   ]
  },
  {
   "cell_type": "code",
   "execution_count": null,
   "id": "6d1e2e30-43e3-45bf-abb4-7b6989061bc3",
   "metadata": {},
   "outputs": [],
   "source": []
  }
 ],
 "metadata": {
  "kernelspec": {
   "display_name": "Python 3 (ipykernel)",
   "language": "python",
   "name": "python3"
  },
  "language_info": {
   "codemirror_mode": {
    "name": "ipython",
    "version": 3
   },
   "file_extension": ".py",
   "mimetype": "text/x-python",
   "name": "python",
   "nbconvert_exporter": "python",
   "pygments_lexer": "ipython3",
   "version": "3.13.8"
  }
 },
 "nbformat": 4,
 "nbformat_minor": 5
}
