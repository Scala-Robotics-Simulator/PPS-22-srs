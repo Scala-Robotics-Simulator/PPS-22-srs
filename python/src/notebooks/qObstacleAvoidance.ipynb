{
 "cells": [
  {
   "cell_type": "code",
   "execution_count": 1,
   "id": "ee6de078-b7c8-431d-92d8-4605b738739c",
   "metadata": {
    "editable": true,
    "slideshow": {
     "slide_type": ""
    },
    "tags": []
   },
   "outputs": [],
   "source": [
    "import sys\n",
    "\n",
    "sys.path.append(\"..\")"
   ]
  },
  {
   "cell_type": "code",
   "execution_count": 2,
   "id": "ba719b97-1c3d-4d33-90cf-beb7b292b5c8",
   "metadata": {},
   "outputs": [],
   "source": [
    "from tqdm import trange"
   ]
  },
  {
   "cell_type": "code",
   "execution_count": 3,
   "id": "bb00e7ce-9b72-47e5-a7dc-8e9d85e7efd2",
   "metadata": {},
   "outputs": [],
   "source": [
    "from environment.obstacle_avoidance_env import ObstacleAvoidanceEnv\n",
    "from utils.reader import get_yaml_path, read_file"
   ]
  },
  {
   "cell_type": "code",
   "execution_count": 4,
   "id": "31d13ff2-ccde-4570-ad77-a3e4992c3c9b",
   "metadata": {},
   "outputs": [],
   "source": [
    "from agent.qagent import QAgent\n",
    "from training.qlearning import QLearning"
   ]
  },
  {
   "cell_type": "code",
   "execution_count": 5,
   "id": "d618bce7-4e63-4285-903f-27e5a9f6a220",
   "metadata": {},
   "outputs": [
    {
     "name": "stderr",
     "output_type": "stream",
     "text": [
      "<frozen importlib._bootstrap>:488: RuntimeWarning: Your system is avx2 capable but pygame was not built with support for it. The performance of some of your blits could be adversely affected. Consider enabling compile time detection with environment variables like PYGAME_DETECT_AVX2=1 if you are compiling without cross compilation.\n",
      "/nix/store/zzy73vn0zwv0chbkw1q8x4fvxa2j8w8c-python3-3.13.8-env/lib/python3.13/site-packages/pygame/pkgdata.py:25: UserWarning: pkg_resources is deprecated as an API. See https://setuptools.pypa.io/en/latest/pkg_resources.html. The pkg_resources package is slated for removal as early as 2025-11-30. Refrain from using this package or pin to Setuptools<81.\n",
      "  from pkg_resources import resource_stream, resource_exists\n"
     ]
    }
   ],
   "source": [
    "import pygame\n",
    "import numpy as np"
   ]
  },
  {
   "cell_type": "code",
   "execution_count": 7,
   "id": "9d4dd526-aca8-470b-8e71-39c8e5f8f69d",
   "metadata": {},
   "outputs": [
    {
     "name": "stdout",
     "output_type": "stream",
     "text": [
      "2025-10-27 10:48:31,526 — INFO — ✓ Connected to localhost:50051\n",
      "\n"
     ]
    }
   ],
   "source": [
    "server_address = \"localhost:50051\"\n",
    "client_name = \"RLClient\"\n",
    "env = ObstacleAvoidanceEnv(server_address, client_name)\n",
    "await env.connect_to_client()"
   ]
  },
  {
   "cell_type": "code",
   "execution_count": 8,
   "id": "49b5029b-9cff-4654-9d91-023a589b4e2f",
   "metadata": {},
   "outputs": [],
   "source": [
    "config_path = get_yaml_path(\"resources\", \"configurations\", \"obstacle-avoidance.yml\")\n",
    "config = read_file(config_path)\n",
    "# print(config)"
   ]
  },
  {
   "cell_type": "code",
   "execution_count": 9,
   "id": "5f842c16-084d-4c0c-9cb0-37f877eac572",
   "metadata": {},
   "outputs": [
    {
     "name": "stdout",
     "output_type": "stream",
     "text": [
      "2025-10-27 10:48:41,169 — INFO — ✓ Initialization successful\n"
     ]
    }
   ],
   "source": [
    "await env.init(config)"
   ]
  },
  {
   "cell_type": "code",
   "execution_count": 10,
   "id": "1b32fa97-4014-4358-ae95-cb333c4ac272",
   "metadata": {},
   "outputs": [],
   "source": [
    "episodes = 3000\n",
    "steps = 5000"
   ]
  },
  {
   "cell_type": "code",
   "execution_count": 11,
   "id": "a6486bba-5e31-4a53-b705-af5cb01170c8",
   "metadata": {},
   "outputs": [],
   "source": [
    "agent = QAgent(env, episodes = episodes)\n",
    "agentId = \"00000000-0000-0000-0000-000000000001\"\n",
    "agents = { agentId: agent }"
   ]
  },
  {
   "cell_type": "code",
   "execution_count": 12,
   "id": "37ec7bae-12e9-4073-9d9e-31549ed226c1",
   "metadata": {},
   "outputs": [],
   "source": [
    "async def run_episodes(episode_count, episode_max_steps, render = False):\n",
    "    running = True\n",
    "    \n",
    "    if render:\n",
    "        pygame.init()\n",
    "        screen = pygame.display.set_mode((800, 600))\n",
    "        pygame.display.set_caption(f\"Q-Learning obstacle avoidance\")\n",
    "        clock = pygame.time.Clock()\n",
    "    for _ep in trange(episode_count, desc=\"Training\", unit=\"ep\"):\n",
    "        obs, _ = await env.reset()\n",
    "        done = False\n",
    "        total_reward = { agentId: 0 }\n",
    "        episode_history = []\n",
    "        step_count = 0\n",
    "        while not done and step_count < episode_max_steps:\n",
    "            actions = { k: agents[k].choose_action(v, epsilon_greedy = not render) for k, v in obs.items() }\n",
    "            next_obs, rewards, terminateds, truncateds, _ = await env.step(actions)\n",
    "            # TODO: take other agents into consideration\n",
    "            done = terminateds[agentId] or truncateds[agentId]\n",
    "            if not render:\n",
    "                for k, _ in next_obs.items():\n",
    "                    agents[k].update_q(obs[k], actions[k], rewards[k], next_obs[k], done)\n",
    "                    total_reward[k] += rewards[k]\n",
    "            obs = next_obs\n",
    "            if render:\n",
    "                rgb_array = await env.render()\n",
    "                surface = pygame.surfarray.make_surface(np.transpose(rgb_array, (1, 0, 2)))\n",
    "                screen.blit(surface, (0, 0))\n",
    "                pygame.display.flip()\n",
    "                clock.tick(60)\n",
    "            step_count += 1\n",
    "            if render:\n",
    "                for event in pygame.event.get():\n",
    "                    if event.type == pygame.QUIT:\n",
    "                        running = False\n",
    "\n",
    "            if not running:\n",
    "                break\n",
    "        for _, agent in agents.items():\n",
    "            agent.decay_epsilon(_ep)\n",
    "    if render:\n",
    "        pygame.quit()\n"
   ]
  },
  {
   "cell_type": "code",
   "execution_count": 13,
   "id": "9a8d217f-8d07-4e21-9134-8f67611cc2a9",
   "metadata": {},
   "outputs": [
    {
     "name": "stderr",
     "output_type": "stream",
     "text": [
      "Training:   1%|█                                                                                                                                                                                             | 16/3000 [00:05<18:11,  2.73ep/s]\n"
     ]
    },
    {
     "ename": "CancelledError",
     "evalue": "",
     "output_type": "error",
     "traceback": [
      "\u001b[31m---------------------------------------------------------------------------\u001b[39m",
      "\u001b[31mCancelledError\u001b[39m                            Traceback (most recent call last)",
      "\u001b[36mCell\u001b[39m\u001b[36m \u001b[39m\u001b[32mIn[13]\u001b[39m\u001b[32m, line 1\u001b[39m\n\u001b[32m----> \u001b[39m\u001b[32m1\u001b[39m \u001b[38;5;28;01mawait\u001b[39;00m run_episodes(episodes, steps)\n",
      "\u001b[36mCell\u001b[39m\u001b[36m \u001b[39m\u001b[32mIn[12]\u001b[39m\u001b[32m, line 17\u001b[39m, in \u001b[36mrun_episodes\u001b[39m\u001b[34m(episode_count, episode_max_steps, render)\u001b[39m\n\u001b[32m     15\u001b[39m \u001b[38;5;28;01mwhile\u001b[39;00m \u001b[38;5;129;01mnot\u001b[39;00m done \u001b[38;5;129;01mand\u001b[39;00m step_count < episode_max_steps:\n\u001b[32m     16\u001b[39m     actions = { k: agents[k].choose_action(v, epsilon_greedy = \u001b[38;5;129;01mnot\u001b[39;00m render) \u001b[38;5;28;01mfor\u001b[39;00m k, v \u001b[38;5;129;01min\u001b[39;00m obs.items() }\n\u001b[32m---> \u001b[39m\u001b[32m17\u001b[39m     next_obs, rewards, terminateds, truncateds, _ = \u001b[38;5;28;01mawait\u001b[39;00m env.step(actions)\n\u001b[32m     18\u001b[39m     \u001b[38;5;66;03m# TODO: take other agents into consideration\u001b[39;00m\n\u001b[32m     19\u001b[39m     done = terminateds[agentId] \u001b[38;5;129;01mor\u001b[39;00m truncateds[agentId]\n",
      "\u001b[36mFile \u001b[39m\u001b[32m~/uni-lab/PPS/2024/SRS/PPS-22-srs/feature/qlearning-obstacle-avoidance/python/src/notebooks/../environment/abstract_env.py:95\u001b[39m, in \u001b[36mAbstractEnv.step\u001b[39m\u001b[34m(self, actions)\u001b[39m\n\u001b[32m     81\u001b[39m \u001b[38;5;250m\u001b[39m\u001b[33;03m\"\"\"Take a step in the environment with the given actions\u001b[39;00m\n\u001b[32m     82\u001b[39m \n\u001b[32m     83\u001b[39m \u001b[33;03mParameters\u001b[39;00m\n\u001b[32m   (...)\u001b[39m\u001b[32m     91\u001b[39m \u001b[33;03m    A tuple containing observations, rewards, terminateds, truncateds, and infos.\u001b[39;00m\n\u001b[32m     92\u001b[39m \u001b[33;03m\"\"\"\u001b[39;00m\n\u001b[32m     93\u001b[39m actions = \u001b[38;5;28mself\u001b[39m._decode_actions(actions)\n\u001b[32m---> \u001b[39m\u001b[32m95\u001b[39m observations, rewards, terminateds, truncateds, infos = \u001b[38;5;28;01mawait\u001b[39;00m \u001b[38;5;28mself\u001b[39m.client.step(\n\u001b[32m     96\u001b[39m     actions\n\u001b[32m     97\u001b[39m )\n\u001b[32m     98\u001b[39m \u001b[38;5;28;01mreturn\u001b[39;00m (\n\u001b[32m     99\u001b[39m     \u001b[38;5;28mself\u001b[39m._encode_observations(observations),\n\u001b[32m    100\u001b[39m     rewards,\n\u001b[32m   (...)\u001b[39m\u001b[32m    103\u001b[39m     infos,\n\u001b[32m    104\u001b[39m )\n",
      "\u001b[36mFile \u001b[39m\u001b[32m~/uni-lab/PPS/2024/SRS/PPS-22-srs/feature/qlearning-obstacle-avoidance/python/src/notebooks/../proto/rl_client.py:70\u001b[39m, in \u001b[36mRLClient.step\u001b[39m\u001b[34m(self, actions)\u001b[39m\n\u001b[32m     62\u001b[39m \u001b[38;5;250m\u001b[39m\u001b[33;03m\"\"\"\u001b[39;00m\n\u001b[32m     63\u001b[39m \u001b[33;03mTake a simulation step with the provided actions.\u001b[39;00m\n\u001b[32m     64\u001b[39m \u001b[33;03mArgs:\u001b[39;00m\n\u001b[32m   (...)\u001b[39m\u001b[32m     67\u001b[39m \u001b[33;03m    Tuple of (observations, rewards, terminateds, truncateds, infos)\u001b[39;00m\n\u001b[32m     68\u001b[39m \u001b[33;03m\"\"\"\u001b[39;00m\n\u001b[32m     69\u001b[39m request = rl_pb2.StepRequest(actions=actions)\n\u001b[32m---> \u001b[39m\u001b[32m70\u001b[39m response = \u001b[38;5;28;01mawait\u001b[39;00m \u001b[38;5;28mself\u001b[39m.stub.Step(request)\n\u001b[32m     71\u001b[39m logger.debug(\n\u001b[32m     72\u001b[39m     \u001b[33mf\u001b[39m\u001b[33m\"\u001b[39m\u001b[33m✓ Step taken: observations=\u001b[39m\u001b[38;5;132;01m{\u001b[39;00mresponse.observations\u001b[38;5;132;01m}\u001b[39;00m\u001b[33m, rewards=\u001b[39m\u001b[38;5;132;01m{\u001b[39;00mresponse.rewards\u001b[38;5;132;01m}\u001b[39;00m\u001b[33m, terminateds=\u001b[39m\u001b[38;5;132;01m{\u001b[39;00mresponse.terminateds\u001b[38;5;132;01m}\u001b[39;00m\u001b[33m, truncateds=\u001b[39m\u001b[38;5;132;01m{\u001b[39;00mresponse.truncateds\u001b[38;5;132;01m}\u001b[39;00m\u001b[33m, infos=\u001b[39m\u001b[38;5;132;01m{\u001b[39;00mresponse.infos\u001b[38;5;132;01m}\u001b[39;00m\u001b[33m\"\u001b[39m\n\u001b[32m     73\u001b[39m )\n\u001b[32m     74\u001b[39m \u001b[38;5;28;01mreturn\u001b[39;00m (\n\u001b[32m     75\u001b[39m     response.observations,\n\u001b[32m     76\u001b[39m     response.rewards,\n\u001b[32m   (...)\u001b[39m\u001b[32m     79\u001b[39m     response.infos,\n\u001b[32m     80\u001b[39m )\n",
      "\u001b[36mFile \u001b[39m\u001b[32m/nix/store/zzy73vn0zwv0chbkw1q8x4fvxa2j8w8c-python3-3.13.8-env/lib/python3.13/site-packages/grpc/aio/_call.py:311\u001b[39m, in \u001b[36m_UnaryResponseMixin.__await__\u001b[39m\u001b[34m(self)\u001b[39m\n\u001b[32m    309\u001b[39m \u001b[38;5;250m\u001b[39m\u001b[33;03m\"\"\"Wait till the ongoing RPC request finishes.\"\"\"\u001b[39;00m\n\u001b[32m    310\u001b[39m \u001b[38;5;28;01mtry\u001b[39;00m:\n\u001b[32m--> \u001b[39m\u001b[32m311\u001b[39m     response = \u001b[38;5;28;01myield from\u001b[39;00m \u001b[38;5;28mself\u001b[39m._call_response\n\u001b[32m    312\u001b[39m \u001b[38;5;28;01mexcept\u001b[39;00m asyncio.CancelledError:\n\u001b[32m    313\u001b[39m     \u001b[38;5;66;03m# Even if we caught all other CancelledError, there is still\u001b[39;00m\n\u001b[32m    314\u001b[39m     \u001b[38;5;66;03m# this corner case. If the application cancels immediately after\u001b[39;00m\n\u001b[32m    315\u001b[39m     \u001b[38;5;66;03m# the Call object is created, we will observe this\u001b[39;00m\n\u001b[32m    316\u001b[39m     \u001b[38;5;66;03m# `CancelledError`.\u001b[39;00m\n\u001b[32m    317\u001b[39m     \u001b[38;5;28;01mif\u001b[39;00m \u001b[38;5;129;01mnot\u001b[39;00m \u001b[38;5;28mself\u001b[39m.cancelled():\n",
      "\u001b[31mCancelledError\u001b[39m: "
     ]
    }
   ],
   "source": [
    "await run_episodes(episodes, steps)"
   ]
  },
  {
   "cell_type": "code",
   "execution_count": null,
   "id": "e8a3a3a9-50a0-44c2-941b-94bb86d51c17",
   "metadata": {},
   "outputs": [],
   "source": [
    "await run_episodes(1, 10000, True)"
   ]
  },
  {
   "cell_type": "code",
   "execution_count": null,
   "id": "6d1e2e30-43e3-45bf-abb4-7b6989061bc3",
   "metadata": {},
   "outputs": [],
   "source": []
  }
 ],
 "metadata": {
  "kernelspec": {
   "display_name": "Python 3 (ipykernel)",
   "language": "python",
   "name": "python3"
  },
  "language_info": {
   "codemirror_mode": {
    "name": "ipython",
    "version": 3
   },
   "file_extension": ".py",
   "mimetype": "text/x-python",
   "name": "python",
   "nbconvert_exporter": "python",
   "pygments_lexer": "ipython3",
   "version": "3.13.8"
  }
 },
 "nbformat": 4,
 "nbformat_minor": 5
}
