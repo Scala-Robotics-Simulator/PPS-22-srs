{
 "cells": [
  {
   "cell_type": "code",
   "execution_count": 1,
   "id": "327b422d-9465-4a80-9167-542769292775",
   "metadata": {},
   "outputs": [],
   "source": [
    "import sys\n",
    "sys.path.append(\"../..\")"
   ]
  },
  {
   "cell_type": "code",
   "execution_count": 2,
   "id": "b218428e-774a-4027-aea5-4a35fe61ebb3",
   "metadata": {},
   "outputs": [],
   "source": [
    "import nest_asyncio\n",
    "nest_asyncio.apply()"
   ]
  },
  {
   "cell_type": "code",
   "execution_count": 3,
   "id": "7bd32752-92eb-4e52-a8c9-f3beac7727dc",
   "metadata": {},
   "outputs": [],
   "source": [
    "# all envs\n",
    "\n",
    "from environment.deepqlearning.obstacle_avoidance_env import ObstacleAvoidanceEnv\n",
    "from utils.reader import get_yaml_path, read_file"
   ]
  },
  {
   "cell_type": "code",
   "execution_count": 4,
   "id": "7e2afde9-4d6c-46e0-9eeb-205c35bf95b1",
   "metadata": {},
   "outputs": [
    {
     "name": "stdout",
     "output_type": "stream",
     "text": [
      "2025-11-01 16:46:06,912 — INFO — ✓ Connected to localhost:50060\n",
      "\n"
     ]
    }
   ],
   "source": [
    "server_address = \"localhost:50060\"\n",
    "client_name = \"RLClient\"\n",
    "env = ObstacleAvoidanceEnv(server_address, client_name)\n",
    "env.connect_to_client()"
   ]
  },
  {
   "cell_type": "code",
   "execution_count": 5,
   "id": "e10681cc-166e-4125-a125-06bf5a9a94ab",
   "metadata": {},
   "outputs": [],
   "source": [
    "config_path = get_yaml_path(\"resources\", \"configurations\", \"obstacle-avoidance.yml\")\n",
    "config = read_file(config_path)\n",
    "# print(config)"
   ]
  },
  {
   "cell_type": "code",
   "execution_count": 6,
   "id": "80a0e14e-a9bb-444b-b697-f6437de0487f",
   "metadata": {},
   "outputs": [
    {
     "name": "stdout",
     "output_type": "stream",
     "text": [
      "2025-11-01 16:46:06,932 — INFO — ✓ Initialization successful\n"
     ]
    }
   ],
   "source": [
    "env.init(config)"
   ]
  },
  {
   "cell_type": "code",
   "execution_count": 7,
   "id": "13294261-98f7-496e-b835-b76819e2c4c3",
   "metadata": {},
   "outputs": [
    {
     "name": "stderr",
     "output_type": "stream",
     "text": [
      "2025-11-01 16:46:07.193053: I tensorflow/core/platform/cpu_feature_guard.cc:210] This TensorFlow binary is optimized to use available CPU instructions in performance-critical operations.\n",
      "To enable the following instructions: AVX2 FMA, in other operations, rebuild TensorFlow with the appropriate compiler flags.\n"
     ]
    }
   ],
   "source": [
    "from agent.scala_dqagent import DQAgent\n",
    "from training.dqnetwork import DQNetwork"
   ]
  },
  {
   "cell_type": "code",
   "execution_count": 8,
   "id": "3a2d31b8-f664-416b-b278-7f66ec8d9f28",
   "metadata": {},
   "outputs": [],
   "source": [
    "neuron_count_per_hidden_layer = [64, 32]"
   ]
  },
  {
   "cell_type": "code",
   "execution_count": 9,
   "id": "bdbdc14a-eb5d-4a09-a148-22beb9f06309",
   "metadata": {},
   "outputs": [
    {
     "name": "stderr",
     "output_type": "stream",
     "text": [
      "WARNING: All log messages before absl::InitializeLog() is called are written to STDERR\n",
      "I0000 00:00:1762011973.448804   20843 gpu_device.cc:2020] Created device /job:localhost/replica:0/task:0/device:GPU:0 with 3822 MB memory:  -> device: 0, name: NVIDIA GeForce GTX 1060 6GB, pci bus id: 0000:1d:00.0, compute capability: 6.1\n"
     ]
    }
   ],
   "source": [
    "agent1 = DQAgent(\n",
    "    env,\n",
    "    agent_id=\"00000000-0000-0000-0000-000000000001\",\n",
    "    action_model=DQNetwork(\n",
    "        env.observation_space.shape,\n",
    "        neuron_count_per_hidden_layer,\n",
    "        env.action_space.n,\n",
    "        summary=False,\n",
    "    ),\n",
    "    target_model=DQNetwork(\n",
    "        env.observation_space.shape,\n",
    "        neuron_count_per_hidden_layer,\n",
    "        env.action_space.n,\n",
    "        summary=False,\n",
    "    ),\n",
    ")\n",
    "agents = [agent1]"
   ]
  },
  {
   "cell_type": "code",
   "execution_count": 13,
   "id": "5a167cf7-c98e-457a-98a6-ffba039b87f5",
   "metadata": {},
   "outputs": [
    {
     "name": "stderr",
     "output_type": "stream",
     "text": [
      "/nix/store/pwrhqv9fy9lbybjz9c1w283z234lzksr-python3-3.13.8-env/lib/python3.13/site-packages/keras/src/saving/saving_lib.py:797: UserWarning: Skipping variable loading for optimizer 'adam', because it has 14 variables whereas the saved optimizer has 2 variables. \n",
      "  saveable.load_own_variables(weights_store.get(inner_path))\n"
     ]
    }
   ],
   "source": [
    "path = get_yaml_path(\"src\", \"scripts\", \"checkpoints\", \"oa_ep1200\")\n",
    "for agent in agents:\n",
    "    agent.load(path)"
   ]
  },
  {
   "cell_type": "code",
   "execution_count": 14,
   "id": "2f6a29dc-b764-4b5b-ae4e-11fa9742052e",
   "metadata": {},
   "outputs": [],
   "source": [
    "import time\n",
    "\n",
    "from training.multi_agent_dqlearning import DQLearning\n",
    "\n",
    "trainer = DQLearning(\n",
    "    env,\n",
    "    agents,\n",
    ")"
   ]
  },
  {
   "cell_type": "code",
   "execution_count": 15,
   "id": "2a50dd8d-e2a7-427c-b28f-21416b898c06",
   "metadata": {},
   "outputs": [
    {
     "name": "stdout",
     "output_type": "stream",
     "text": [
      "2025-11-01 17:28:09,077 — INFO — Episode 1/5 - Reward: 1105.0870195294947\n",
      "2025-11-01 17:28:42,635 — INFO — Episode 2/5 - Reward: 1105.0870195294947\n",
      "2025-11-01 17:28:48,178 — INFO — Episode 3/5 - Reward: 152.35867744281967\n",
      "2025-11-01 17:28:48,179 — INFO — Episode 4/5 - Reward: 0\n",
      "2025-11-01 17:28:48,181 — INFO — Episode 5/5 - Reward: 0\n"
     ]
    }
   ],
   "source": [
    "trainer.play_with_pygame(episodes=5, fps=60)"
   ]
  },
  {
   "cell_type": "code",
   "execution_count": null,
   "id": "89c2833e-9af5-4b75-8ff6-a779cfa16c29",
   "metadata": {},
   "outputs": [],
   "source": []
  }
 ],
 "metadata": {
  "kernelspec": {
   "display_name": "Python 3 (ipykernel)",
   "language": "python",
   "name": "python3"
  },
  "language_info": {
   "codemirror_mode": {
    "name": "ipython",
    "version": 3
   },
   "file_extension": ".py",
   "mimetype": "text/x-python",
   "name": "python",
   "nbconvert_exporter": "python",
   "pygments_lexer": "ipython3",
   "version": "3.13.8"
  }
 },
 "nbformat": 4,
 "nbformat_minor": 5
}
