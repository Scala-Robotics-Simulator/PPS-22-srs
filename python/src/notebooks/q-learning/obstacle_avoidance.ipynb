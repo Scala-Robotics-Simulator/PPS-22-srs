{
 "cells": [
  {
   "cell_type": "code",
   "execution_count": 1,
   "id": "ee6de078-b7c8-431d-92d8-4605b738739c",
   "metadata": {
    "editable": true,
    "slideshow": {
     "slide_type": ""
    },
    "tags": []
   },
   "outputs": [],
   "source": [
    "import sys\n",
    "\n",
    "sys.path.append(\"../..\")"
   ]
  },
  {
   "cell_type": "code",
   "execution_count": 2,
   "id": "90f2f1c3-8ef3-4ddf-b08f-5e4bba0eb307",
   "metadata": {},
   "outputs": [],
   "source": [
    "import nest_asyncio\n",
    "nest_asyncio.apply()"
   ]
  },
  {
   "cell_type": "code",
   "execution_count": 3,
   "id": "ba719b97-1c3d-4d33-90cf-beb7b292b5c8",
   "metadata": {},
   "outputs": [],
   "source": [
    "from tqdm import trange"
   ]
  },
  {
   "cell_type": "code",
   "execution_count": 4,
   "id": "bb00e7ce-9b72-47e5-a7dc-8e9d85e7efd2",
   "metadata": {},
   "outputs": [],
   "source": [
    "from environment.qlearning.obstacle_avoidance_env import ObstacleAvoidanceEnv\n",
    "from utils.reader import get_yaml_path, read_file"
   ]
  },
  {
   "cell_type": "code",
   "execution_count": 5,
   "id": "31d13ff2-ccde-4570-ad77-a3e4992c3c9b",
   "metadata": {},
   "outputs": [],
   "source": [
    "from agent.qagent import QAgent\n",
    "from training.qlearning import QLearning"
   ]
  },
  {
   "cell_type": "code",
   "execution_count": 6,
   "id": "d618bce7-4e63-4285-903f-27e5a9f6a220",
   "metadata": {},
   "outputs": [
    {
     "name": "stderr",
     "output_type": "stream",
     "text": [
      "<frozen importlib._bootstrap>:488: RuntimeWarning: Your system is avx2 capable but pygame was not built with support for it. The performance of some of your blits could be adversely affected. Consider enabling compile time detection with environment variables like PYGAME_DETECT_AVX2=1 if you are compiling without cross compilation.\n",
      "/nix/store/pwrhqv9fy9lbybjz9c1w283z234lzksr-python3-3.13.8-env/lib/python3.13/site-packages/pygame/pkgdata.py:25: UserWarning: pkg_resources is deprecated as an API. See https://setuptools.pypa.io/en/latest/pkg_resources.html. The pkg_resources package is slated for removal as early as 2025-11-30. Refrain from using this package or pin to Setuptools<81.\n",
      "  from pkg_resources import resource_stream, resource_exists\n"
     ]
    }
   ],
   "source": [
    "import pygame\n",
    "import numpy as np"
   ]
  },
  {
   "cell_type": "code",
   "execution_count": 7,
   "id": "9d4dd526-aca8-470b-8e71-39c8e5f8f69d",
   "metadata": {},
   "outputs": [
    {
     "name": "stdout",
     "output_type": "stream",
     "text": [
      "2025-11-01 16:19:49,488 — INFO — ✓ Connected to localhost:50060\n",
      "\n"
     ]
    }
   ],
   "source": [
    "server_address = \"localhost:50060\"\n",
    "client_name = \"RLClient\"\n",
    "env = ObstacleAvoidanceEnv(server_address, client_name)\n",
    "env.connect_to_client()"
   ]
  },
  {
   "cell_type": "code",
   "execution_count": 8,
   "id": "49b5029b-9cff-4654-9d91-023a589b4e2f",
   "metadata": {},
   "outputs": [],
   "source": [
    "config_path = get_yaml_path(\"resources\", \"configurations\", \"obstacle-avoidance.yml\")\n",
    "config = read_file(config_path)\n",
    "# print(config)"
   ]
  },
  {
   "cell_type": "code",
   "execution_count": 9,
   "id": "5f842c16-084d-4c0c-9cb0-37f877eac572",
   "metadata": {},
   "outputs": [
    {
     "name": "stdout",
     "output_type": "stream",
     "text": [
      "2025-11-01 16:19:49,725 — INFO — ✓ Initialization successful\n"
     ]
    }
   ],
   "source": [
    "env.init(config)"
   ]
  },
  {
   "cell_type": "code",
   "execution_count": 10,
   "id": "1b32fa97-4014-4358-ae95-cb333c4ac272",
   "metadata": {},
   "outputs": [],
   "source": [
    "episodes = 100\n",
    "steps = 5000"
   ]
  },
  {
   "cell_type": "code",
   "execution_count": 11,
   "id": "a6486bba-5e31-4a53-b705-af5cb01170c8",
   "metadata": {},
   "outputs": [],
   "source": [
    "agent = QAgent(env, episodes = episodes)\n",
    "agentId = \"00000000-0000-0000-0000-000000000001\"\n",
    "agents = { agentId: agent }"
   ]
  },
  {
   "cell_type": "code",
   "execution_count": 12,
   "id": "37ec7bae-12e9-4073-9d9e-31549ed226c1",
   "metadata": {},
   "outputs": [],
   "source": [
    "def run_episodes(episode_count, episode_max_steps, render = False):\n",
    "    running = True\n",
    "    \n",
    "    if render:\n",
    "        pygame.init()\n",
    "        screen = pygame.display.set_mode((800, 600))\n",
    "        pygame.display.set_caption(f\"Q-Learning obstacle avoidance\")\n",
    "        clock = pygame.time.Clock()\n",
    "    for _ep in trange(episode_count, desc=\"Training\", unit=\"ep\"):\n",
    "        obs, _ = env.reset()\n",
    "        done = False\n",
    "        total_reward = { agentId: 0 }\n",
    "        episode_history = []\n",
    "        step_count = 0\n",
    "        while not done and step_count < episode_max_steps:\n",
    "            actions = { k: agents[k].choose_action(v, epsilon_greedy = not render) for k, v in obs.items() }\n",
    "            next_obs, rewards, terminateds, truncateds, _ = env.step(actions)\n",
    "            # TODO: take other agents into consideration\n",
    "            done = terminateds[agentId] or truncateds[agentId]\n",
    "            if not render:\n",
    "                for k, _ in next_obs.items():\n",
    "                    agents[k].update_q(obs[k], actions[k], rewards[k], next_obs[k], done)\n",
    "                    total_reward[k] += rewards[k]\n",
    "            obs = next_obs\n",
    "            if render:\n",
    "                rgb_array = env.render()\n",
    "                surface = pygame.surfarray.make_surface(np.transpose(rgb_array, (1, 0, 2)))\n",
    "                screen.blit(surface, (0, 0))\n",
    "                pygame.display.flip()\n",
    "                clock.tick(60)\n",
    "            step_count += 1\n",
    "            if render:\n",
    "                for event in pygame.event.get():\n",
    "                    if event.type == pygame.QUIT:\n",
    "                        running = False\n",
    "\n",
    "            if not running:\n",
    "                break\n",
    "        for _, agent in agents.items():\n",
    "            agent.decay_epsilon(_ep)\n",
    "    if render:\n",
    "        pygame.quit()\n"
   ]
  },
  {
   "cell_type": "code",
   "execution_count": 13,
   "id": "9a8d217f-8d07-4e21-9134-8f67611cc2a9",
   "metadata": {},
   "outputs": [
    {
     "name": "stderr",
     "output_type": "stream",
     "text": [
      "Training:  12%|███████████████████████                                                                                                                                                                         | 12/100 [00:12<01:29,  1.02s/ep]\n"
     ]
    },
    {
     "ename": "KeyboardInterrupt",
     "evalue": "",
     "output_type": "error",
     "traceback": [
      "\u001b[31m---------------------------------------------------------------------------\u001b[39m",
      "\u001b[31mKeyboardInterrupt\u001b[39m                         Traceback (most recent call last)",
      "\u001b[36mCell\u001b[39m\u001b[36m \u001b[39m\u001b[32mIn[13]\u001b[39m\u001b[32m, line 1\u001b[39m\n\u001b[32m----> \u001b[39m\u001b[32m1\u001b[39m \u001b[43mrun_episodes\u001b[49m\u001b[43m(\u001b[49m\u001b[43mepisodes\u001b[49m\u001b[43m,\u001b[49m\u001b[43m \u001b[49m\u001b[43msteps\u001b[49m\u001b[43m)\u001b[49m\n",
      "\u001b[36mCell\u001b[39m\u001b[36m \u001b[39m\u001b[32mIn[12]\u001b[39m\u001b[32m, line 17\u001b[39m, in \u001b[36mrun_episodes\u001b[39m\u001b[34m(episode_count, episode_max_steps, render)\u001b[39m\n\u001b[32m     15\u001b[39m \u001b[38;5;28;01mwhile\u001b[39;00m \u001b[38;5;129;01mnot\u001b[39;00m done \u001b[38;5;129;01mand\u001b[39;00m step_count < episode_max_steps:\n\u001b[32m     16\u001b[39m     actions = { k: agents[k].choose_action(v, epsilon_greedy = \u001b[38;5;129;01mnot\u001b[39;00m render) \u001b[38;5;28;01mfor\u001b[39;00m k, v \u001b[38;5;129;01min\u001b[39;00m obs.items() }\n\u001b[32m---> \u001b[39m\u001b[32m17\u001b[39m     next_obs, rewards, terminateds, truncateds, _ = \u001b[43menv\u001b[49m\u001b[43m.\u001b[49m\u001b[43mstep\u001b[49m\u001b[43m(\u001b[49m\u001b[43mactions\u001b[49m\u001b[43m)\u001b[49m\n\u001b[32m     18\u001b[39m     \u001b[38;5;66;03m# TODO: take other agents into consideration\u001b[39;00m\n\u001b[32m     19\u001b[39m     done = terminateds[agentId] \u001b[38;5;129;01mor\u001b[39;00m truncateds[agentId]\n",
      "\u001b[36mFile \u001b[39m\u001b[32m~/projects/PPS-22-srs/python/src/notebooks/q-learning/../../environment/abstract_env.py:103\u001b[39m, in \u001b[36mAbstractEnv.step\u001b[39m\u001b[34m(self, actions)\u001b[39m\n\u001b[32m     89\u001b[39m \u001b[38;5;250m\u001b[39m\u001b[33;03m\"\"\"Take a step in the environment with the given actions\u001b[39;00m\n\u001b[32m     90\u001b[39m \n\u001b[32m     91\u001b[39m \u001b[33;03mParameters\u001b[39;00m\n\u001b[32m   (...)\u001b[39m\u001b[32m     99\u001b[39m \u001b[33;03m    A tuple containing observations, rewards, terminateds, truncateds, and infos.\u001b[39;00m\n\u001b[32m    100\u001b[39m \u001b[33;03m\"\"\"\u001b[39;00m\n\u001b[32m    101\u001b[39m actions = \u001b[38;5;28mself\u001b[39m._decode_actions(actions)\n\u001b[32m--> \u001b[39m\u001b[32m103\u001b[39m observations, rewards, terminateds, truncateds, infos = \u001b[38;5;28;43mself\u001b[39;49m\u001b[43m.\u001b[49m\u001b[43m_run_async\u001b[49m\u001b[43m(\u001b[49m\n\u001b[32m    104\u001b[39m \u001b[43m    \u001b[49m\u001b[38;5;28;43mself\u001b[39;49m\u001b[43m.\u001b[49m\u001b[43mclient\u001b[49m\u001b[43m.\u001b[49m\u001b[43mstep\u001b[49m\u001b[43m(\u001b[49m\u001b[43mactions\u001b[49m\u001b[43m)\u001b[49m\n\u001b[32m    105\u001b[39m \u001b[43m\u001b[49m\u001b[43m)\u001b[49m\n\u001b[32m    106\u001b[39m \u001b[38;5;28;01mreturn\u001b[39;00m (\n\u001b[32m    107\u001b[39m     \u001b[38;5;28mself\u001b[39m._encode_observations(observations),\n\u001b[32m    108\u001b[39m     rewards,\n\u001b[32m   (...)\u001b[39m\u001b[32m    111\u001b[39m     infos,\n\u001b[32m    112\u001b[39m )\n",
      "\u001b[36mFile \u001b[39m\u001b[32m~/projects/PPS-22-srs/python/src/notebooks/q-learning/../../environment/abstract_env.py:42\u001b[39m, in \u001b[36mAbstractEnv._run_async\u001b[39m\u001b[34m(self, coro)\u001b[39m\n\u001b[32m     40\u001b[39m \u001b[38;5;28;01mdef\u001b[39;00m\u001b[38;5;250m \u001b[39m\u001b[34m_run_async\u001b[39m(\u001b[38;5;28mself\u001b[39m, coro):\n\u001b[32m     41\u001b[39m \u001b[38;5;250m    \u001b[39m\u001b[33;03m\"\"\"Helper method to run async coroutines synchronously\"\"\"\u001b[39;00m\n\u001b[32m---> \u001b[39m\u001b[32m42\u001b[39m     \u001b[38;5;28;01mreturn\u001b[39;00m \u001b[38;5;28;43mself\u001b[39;49m\u001b[43m.\u001b[49m\u001b[43mloop\u001b[49m\u001b[43m.\u001b[49m\u001b[43mrun_until_complete\u001b[49m\u001b[43m(\u001b[49m\u001b[43mcoro\u001b[49m\u001b[43m)\u001b[49m\n",
      "\u001b[36mFile \u001b[39m\u001b[32m/nix/store/pwrhqv9fy9lbybjz9c1w283z234lzksr-python3-3.13.8-env/lib/python3.13/site-packages/nest_asyncio.py:92\u001b[39m, in \u001b[36m_patch_loop.<locals>.run_until_complete\u001b[39m\u001b[34m(self, future)\u001b[39m\n\u001b[32m     90\u001b[39m     f._log_destroy_pending = \u001b[38;5;28;01mFalse\u001b[39;00m\n\u001b[32m     91\u001b[39m \u001b[38;5;28;01mwhile\u001b[39;00m \u001b[38;5;129;01mnot\u001b[39;00m f.done():\n\u001b[32m---> \u001b[39m\u001b[32m92\u001b[39m     \u001b[38;5;28;43mself\u001b[39;49m\u001b[43m.\u001b[49m\u001b[43m_run_once\u001b[49m\u001b[43m(\u001b[49m\u001b[43m)\u001b[49m\n\u001b[32m     93\u001b[39m     \u001b[38;5;28;01mif\u001b[39;00m \u001b[38;5;28mself\u001b[39m._stopping:\n\u001b[32m     94\u001b[39m         \u001b[38;5;28;01mbreak\u001b[39;00m\n",
      "\u001b[36mFile \u001b[39m\u001b[32m/nix/store/pwrhqv9fy9lbybjz9c1w283z234lzksr-python3-3.13.8-env/lib/python3.13/site-packages/nest_asyncio.py:133\u001b[39m, in \u001b[36m_patch_loop.<locals>._run_once\u001b[39m\u001b[34m(self)\u001b[39m\n\u001b[32m    130\u001b[39m curr_task = curr_tasks.pop(\u001b[38;5;28mself\u001b[39m, \u001b[38;5;28;01mNone\u001b[39;00m)\n\u001b[32m    132\u001b[39m \u001b[38;5;28;01mtry\u001b[39;00m:\n\u001b[32m--> \u001b[39m\u001b[32m133\u001b[39m     \u001b[43mhandle\u001b[49m\u001b[43m.\u001b[49m\u001b[43m_run\u001b[49m\u001b[43m(\u001b[49m\u001b[43m)\u001b[49m\n\u001b[32m    134\u001b[39m \u001b[38;5;28;01mfinally\u001b[39;00m:\n\u001b[32m    135\u001b[39m     \u001b[38;5;66;03m# restore the current task\u001b[39;00m\n\u001b[32m    136\u001b[39m     \u001b[38;5;28;01mif\u001b[39;00m curr_task \u001b[38;5;129;01mis\u001b[39;00m \u001b[38;5;129;01mnot\u001b[39;00m \u001b[38;5;28;01mNone\u001b[39;00m:\n",
      "\u001b[36mFile \u001b[39m\u001b[32m/nix/store/cfapjd2rvqrpry4grb0kljnp8bvnvfxz-python3-3.13.8/lib/python3.13/asyncio/events.py:89\u001b[39m, in \u001b[36mHandle._run\u001b[39m\u001b[34m(self)\u001b[39m\n\u001b[32m     87\u001b[39m \u001b[38;5;28;01mdef\u001b[39;00m\u001b[38;5;250m \u001b[39m\u001b[34m_run\u001b[39m(\u001b[38;5;28mself\u001b[39m):\n\u001b[32m     88\u001b[39m     \u001b[38;5;28;01mtry\u001b[39;00m:\n\u001b[32m---> \u001b[39m\u001b[32m89\u001b[39m         \u001b[38;5;28;43mself\u001b[39;49m\u001b[43m.\u001b[49m\u001b[43m_context\u001b[49m\u001b[43m.\u001b[49m\u001b[43mrun\u001b[49m\u001b[43m(\u001b[49m\u001b[38;5;28;43mself\u001b[39;49m\u001b[43m.\u001b[49m\u001b[43m_callback\u001b[49m\u001b[43m,\u001b[49m\u001b[43m \u001b[49m\u001b[43m*\u001b[49m\u001b[38;5;28;43mself\u001b[39;49m\u001b[43m.\u001b[49m\u001b[43m_args\u001b[49m\u001b[43m)\u001b[49m\n\u001b[32m     90\u001b[39m     \u001b[38;5;28;01mexcept\u001b[39;00m (\u001b[38;5;167;01mSystemExit\u001b[39;00m, \u001b[38;5;167;01mKeyboardInterrupt\u001b[39;00m):\n\u001b[32m     91\u001b[39m         \u001b[38;5;28;01mraise\u001b[39;00m\n",
      "\u001b[36mFile \u001b[39m\u001b[32m/nix/store/cfapjd2rvqrpry4grb0kljnp8bvnvfxz-python3-3.13.8/lib/python3.13/asyncio/tasks.py:386\u001b[39m, in \u001b[36mTask.__wakeup\u001b[39m\u001b[34m(self, future)\u001b[39m\n\u001b[32m    378\u001b[39m     \u001b[38;5;28mself\u001b[39m.__step(exc)\n\u001b[32m    379\u001b[39m \u001b[38;5;28;01melse\u001b[39;00m:\n\u001b[32m    380\u001b[39m     \u001b[38;5;66;03m# Don't pass the value of `future.result()` explicitly,\u001b[39;00m\n\u001b[32m    381\u001b[39m     \u001b[38;5;66;03m# as `Future.__iter__` and `Future.__await__` don't need it.\u001b[39;00m\n\u001b[32m   (...)\u001b[39m\u001b[32m    384\u001b[39m     \u001b[38;5;66;03m# instead of `__next__()`, which is slower for futures\u001b[39;00m\n\u001b[32m    385\u001b[39m     \u001b[38;5;66;03m# that return non-generator iterators from their `__iter__`.\u001b[39;00m\n\u001b[32m--> \u001b[39m\u001b[32m386\u001b[39m     \u001b[38;5;28;43mself\u001b[39;49m\u001b[43m.\u001b[49m\u001b[43m__step\u001b[49m\u001b[43m(\u001b[49m\u001b[43m)\u001b[49m\n\u001b[32m    387\u001b[39m \u001b[38;5;28mself\u001b[39m = \u001b[38;5;28;01mNone\u001b[39;00m\n",
      "\u001b[36mFile \u001b[39m\u001b[32m/nix/store/cfapjd2rvqrpry4grb0kljnp8bvnvfxz-python3-3.13.8/lib/python3.13/asyncio/tasks.py:293\u001b[39m, in \u001b[36mTask.__step\u001b[39m\u001b[34m(self, exc)\u001b[39m\n\u001b[32m    291\u001b[39m _enter_task(\u001b[38;5;28mself\u001b[39m._loop, \u001b[38;5;28mself\u001b[39m)\n\u001b[32m    292\u001b[39m \u001b[38;5;28;01mtry\u001b[39;00m:\n\u001b[32m--> \u001b[39m\u001b[32m293\u001b[39m     \u001b[38;5;28;43mself\u001b[39;49m\u001b[43m.\u001b[49m\u001b[43m__step_run_and_handle_result\u001b[49m\u001b[43m(\u001b[49m\u001b[43mexc\u001b[49m\u001b[43m)\u001b[49m\n\u001b[32m    294\u001b[39m \u001b[38;5;28;01mfinally\u001b[39;00m:\n\u001b[32m    295\u001b[39m     _leave_task(\u001b[38;5;28mself\u001b[39m._loop, \u001b[38;5;28mself\u001b[39m)\n",
      "\u001b[36mFile \u001b[39m\u001b[32m/nix/store/cfapjd2rvqrpry4grb0kljnp8bvnvfxz-python3-3.13.8/lib/python3.13/asyncio/tasks.py:304\u001b[39m, in \u001b[36mTask.__step_run_and_handle_result\u001b[39m\u001b[34m(***failed resolving arguments***)\u001b[39m\n\u001b[32m    300\u001b[39m \u001b[38;5;28;01mtry\u001b[39;00m:\n\u001b[32m    301\u001b[39m     \u001b[38;5;28;01mif\u001b[39;00m exc \u001b[38;5;129;01mis\u001b[39;00m \u001b[38;5;28;01mNone\u001b[39;00m:\n\u001b[32m    302\u001b[39m         \u001b[38;5;66;03m# We use the `send` method directly, because coroutines\u001b[39;00m\n\u001b[32m    303\u001b[39m         \u001b[38;5;66;03m# don't have `__iter__` and `__next__` methods.\u001b[39;00m\n\u001b[32m--> \u001b[39m\u001b[32m304\u001b[39m         result = \u001b[43mcoro\u001b[49m\u001b[43m.\u001b[49m\u001b[43msend\u001b[49m\u001b[43m(\u001b[49m\u001b[38;5;28;43;01mNone\u001b[39;49;00m\u001b[43m)\u001b[49m\n\u001b[32m    305\u001b[39m     \u001b[38;5;28;01melse\u001b[39;00m:\n\u001b[32m    306\u001b[39m         result = coro.throw(exc)\n",
      "\u001b[36mFile \u001b[39m\u001b[32m~/projects/PPS-22-srs/python/src/notebooks/q-learning/../../rl/rl_client.py:74\u001b[39m, in \u001b[36mRLClient.step\u001b[39m\u001b[34m(self, actions)\u001b[39m\n\u001b[32m     71\u001b[39m request = rl_pb2.StepRequest(actions=actions)\n\u001b[32m     72\u001b[39m response = \u001b[38;5;28;01mawait\u001b[39;00m \u001b[38;5;28mself\u001b[39m.stub.Step(request)\n\u001b[32m     73\u001b[39m logger.debug(\n\u001b[32m---> \u001b[39m\u001b[32m74\u001b[39m     \u001b[33mf\u001b[39m\u001b[33m\"\u001b[39m\u001b[33m✓ Step taken: observations=\u001b[39m\u001b[38;5;132;01m{\u001b[39;00mresponse.observations\u001b[38;5;132;01m}\u001b[39;00m\u001b[33m, rewards=\u001b[39m\u001b[38;5;132;01m{\u001b[39;00mresponse.rewards\u001b[38;5;132;01m}\u001b[39;00m\u001b[33m, terminateds=\u001b[39m\u001b[38;5;132;01m{\u001b[39;00mresponse.terminateds\u001b[38;5;132;01m}\u001b[39;00m\u001b[33m, truncateds=\u001b[39m\u001b[38;5;132;01m{\u001b[39;00mresponse.truncateds\u001b[38;5;132;01m}\u001b[39;00m\u001b[33m, infos=\u001b[39m\u001b[38;5;132;01m{\u001b[39;00mresponse.infos\u001b[38;5;132;01m}\u001b[39;00m\u001b[33m\"\u001b[39m\n\u001b[32m     75\u001b[39m )\n\u001b[32m     76\u001b[39m \u001b[38;5;28;01mreturn\u001b[39;00m (\n\u001b[32m     77\u001b[39m     response.observations,\n\u001b[32m     78\u001b[39m     response.rewards,\n\u001b[32m   (...)\u001b[39m\u001b[32m     81\u001b[39m     response.infos,\n\u001b[32m     82\u001b[39m )\n",
      "\u001b[31mKeyboardInterrupt\u001b[39m: "
     ]
    }
   ],
   "source": [
    "run_episodes(episodes, steps)"
   ]
  },
  {
   "cell_type": "code",
   "execution_count": null,
   "id": "e8a3a3a9-50a0-44c2-941b-94bb86d51c17",
   "metadata": {},
   "outputs": [],
   "source": [
    "run_episodes(1, 10000, True)"
   ]
  },
  {
   "cell_type": "code",
   "execution_count": null,
   "id": "ea48d62c-914f-4224-9777-27a2519b4d3b",
   "metadata": {},
   "outputs": [],
   "source": []
  }
 ],
 "metadata": {
  "kernelspec": {
   "display_name": "Python 3 (ipykernel)",
   "language": "python",
   "name": "python3"
  },
  "language_info": {
   "codemirror_mode": {
    "name": "ipython",
    "version": 3
   },
   "file_extension": ".py",
   "mimetype": "text/x-python",
   "name": "python",
   "nbconvert_exporter": "python",
   "pygments_lexer": "ipython3",
   "version": "3.13.8"
  }
 },
 "nbformat": 4,
 "nbformat_minor": 5
}
