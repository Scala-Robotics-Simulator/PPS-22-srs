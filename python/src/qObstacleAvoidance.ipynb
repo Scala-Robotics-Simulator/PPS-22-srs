{
 "cells": [
  {
   "cell_type": "code",
   "execution_count": 1,
   "id": "ba719b97-1c3d-4d33-90cf-beb7b292b5c8",
   "metadata": {},
   "outputs": [],
   "source": [
    "from tqdm import trange"
   ]
  },
  {
   "cell_type": "code",
   "execution_count": 2,
   "id": "bb00e7ce-9b72-47e5-a7dc-8e9d85e7efd2",
   "metadata": {},
   "outputs": [],
   "source": [
    "from environment.obstacle_avoidance_env import ObstacleAvoidanceEnv\n",
    "from utils.reader import get_yaml_path, read_file"
   ]
  },
  {
   "cell_type": "code",
   "execution_count": 3,
   "id": "31d13ff2-ccde-4570-ad77-a3e4992c3c9b",
   "metadata": {},
   "outputs": [],
   "source": [
    "from agent.qagent import QAgent\n",
    "from training.qlearning import QLearning"
   ]
  },
  {
   "cell_type": "code",
   "execution_count": 4,
   "id": "d618bce7-4e63-4285-903f-27e5a9f6a220",
   "metadata": {},
   "outputs": [
    {
     "name": "stderr",
     "output_type": "stream",
     "text": [
      "<frozen importlib._bootstrap>:488: RuntimeWarning: Your system is avx2 capable but pygame was not built with support for it. The performance of some of your blits could be adversely affected. Consider enabling compile time detection with environment variables like PYGAME_DETECT_AVX2=1 if you are compiling without cross compilation.\n",
      "/nix/store/xbciifq3vj4liprzjqgzkq7fj2z7zx0q-srs-rl-env/lib/python3.12/site-packages/pygame/pkgdata.py:25: UserWarning: pkg_resources is deprecated as an API. See https://setuptools.pypa.io/en/latest/pkg_resources.html. The pkg_resources package is slated for removal as early as 2025-11-30. Refrain from using this package or pin to Setuptools<81.\n",
      "  from pkg_resources import resource_stream, resource_exists\n"
     ]
    }
   ],
   "source": [
    "import pygame\n",
    "import numpy as np"
   ]
  },
  {
   "cell_type": "code",
   "execution_count": 5,
   "id": "9d4dd526-aca8-470b-8e71-39c8e5f8f69d",
   "metadata": {},
   "outputs": [
    {
     "name": "stderr",
     "output_type": "stream",
     "text": [
      "✓ Connected to localhost:50051\n",
      "\n"
     ]
    }
   ],
   "source": [
    "server_address = \"localhost:50051\"\n",
    "client_name = \"RLClient\"\n",
    "env = ObstacleAvoidanceEnv(server_address, client_name)\n",
    "await env.init_client()"
   ]
  },
  {
   "cell_type": "code",
   "execution_count": 6,
   "id": "49b5029b-9cff-4654-9d91-023a589b4e2f",
   "metadata": {},
   "outputs": [
    {
     "name": "stdout",
     "output_type": "stream",
     "text": [
      "simulation:\n",
      "    seed: 42\n",
      "    duration: 1000000\n",
      "environment:\n",
      "    width: 10\n",
      "    height: 10\n",
      "    entities:\n",
      "        - agent:\n",
      "              id: 00000000-0000-0000-0000-000000000001\n",
      "              radius: 0.25\n",
      "              withProximitySensors: true\n",
      "              withLightSensors: true\n",
      "              position: [1.0, 4.0]\n",
      "              orientation: 0.0\n",
      "              speed: 1.0\n",
      "              reward: ObstacleAvoidance\n",
      "              termination: EndSimulationTermination\n",
      "              truncation: ObstacleAvoidance\n",
      "        - obstacle:\n",
      "              height: 0.2\n",
      "              width: 4.0\n",
      "              orientation: 0.0\n",
      "              position: [3.0, 5.0]\n",
      "        - obstacle:\n",
      "              width: 0.2\n",
      "              height: 5.0\n",
      "              position: [7.0, 6.0]\n",
      "              orientation: 15.0\n",
      "        - obstacle:\n",
      "              width: 6.8\n",
      "              position: [4.0, 3.0]\n",
      "              height: 0.2\n",
      "              orientation: 0.0\n",
      "        - obstacle:\n",
      "              orientation: 10.0\n",
      "              position: [5.0, 7.5]\n",
      "              height: 4.0\n",
      "              width: 0.2\n",
      "\n"
     ]
    }
   ],
   "source": [
    "config_path = get_yaml_path(\"resources\", \"configurations\", \"obstacle-avoidance.yml\")\n",
    "config = read_file(config_path)\n",
    "print(config)"
   ]
  },
  {
   "cell_type": "code",
   "execution_count": 7,
   "id": "5f842c16-084d-4c0c-9cb0-37f877eac572",
   "metadata": {},
   "outputs": [
    {
     "name": "stderr",
     "output_type": "stream",
     "text": [
      "✓ Initialization successful\n"
     ]
    }
   ],
   "source": [
    "await env.init(config)"
   ]
  },
  {
   "cell_type": "code",
   "execution_count": 8,
   "id": "a6486bba-5e31-4a53-b705-af5cb01170c8",
   "metadata": {},
   "outputs": [],
   "source": [
    "agent = QAgent(env)\n",
    "agentId = \"00000000-0000-0000-0000-000000000001\"\n",
    "agents = { agentId: agent }"
   ]
  },
  {
   "cell_type": "code",
   "execution_count": 9,
   "id": "37ec7bae-12e9-4073-9d9e-31549ed226c1",
   "metadata": {},
   "outputs": [],
   "source": [
    "async def run_episodes(episode_count, episode_max_steps, render = False):\n",
    "    running = True\n",
    "    \n",
    "    if render:\n",
    "        pygame.init()\n",
    "        screen = pygame.display.set_mode((800, 600))\n",
    "        pygame.display.set_caption(f\"Q-Learning obstacle avoidance\")\n",
    "        clock = pygame.time.Clock()\n",
    "    for _ep in trange(episode_count, desc=\"Training\", unit=\"ep\"):\n",
    "        obs, _ = await env.reset()\n",
    "        done = False\n",
    "        total_reward = { agentId: 0 }\n",
    "        episode_history = []\n",
    "        step_count = 0\n",
    "        while not done and step_count < episode_max_steps:\n",
    "            actions = { k: agents[k].choose_action(v) for k, v in obs.items() }\n",
    "            next_obs, rewards, terminateds, truncateds, _ = await env.step(actions)\n",
    "            # TODO: take other agents into consideration\n",
    "            done = terminateds[agentId] or truncateds[agentId]\n",
    "            for k, _ in next_obs.items():\n",
    "                agents[k].update_q(obs[k], actions[k], rewards[k], next_obs[k], done)\n",
    "                total_reward[k] += rewards[k]\n",
    "            obs = next_obs\n",
    "            if render:\n",
    "                rgb_array = await env.render()\n",
    "                surface = pygame.surfarray.make_surface(np.transpose(rgb_array, (1, 0, 2)))\n",
    "                screen.blit(surface, (0, 0))\n",
    "                pygame.display.flip()\n",
    "                clock.tick(60)\n",
    "            step_count += 1\n",
    "            if render:\n",
    "                for event in pygame.event.get():\n",
    "                    if event.type == pygame.QUIT:\n",
    "                        running = False\n",
    "\n",
    "            if not running:\n",
    "                break\n",
    "    if render:\n",
    "        pygame.quit()\n"
   ]
  },
  {
   "cell_type": "code",
   "execution_count": 10,
   "id": "1b32fa97-4014-4358-ae95-cb333c4ac272",
   "metadata": {},
   "outputs": [],
   "source": [
    "episodes = 3000\n",
    "steps = 1000"
   ]
  },
  {
   "cell_type": "code",
   "execution_count": null,
   "id": "9a8d217f-8d07-4e21-9134-8f67611cc2a9",
   "metadata": {},
   "outputs": [
    {
     "name": "stderr",
     "output_type": "stream",
     "text": [
      "Training:   9%|████████████████▋                                                                                                                                                                            | 264/3000 [01:45<15:58,  2.85ep/s]"
     ]
    }
   ],
   "source": [
    "await run_episodes(episodes, steps)"
   ]
  },
  {
   "cell_type": "code",
   "execution_count": null,
   "id": "e8a3a3a9-50a0-44c2-941b-94bb86d51c17",
   "metadata": {},
   "outputs": [],
   "source": [
    "await run_episodes(1, steps, True)"
   ]
  },
  {
   "cell_type": "code",
   "execution_count": null,
   "id": "6d1e2e30-43e3-45bf-abb4-7b6989061bc3",
   "metadata": {},
   "outputs": [],
   "source": []
  }
 ],
 "metadata": {
  "kernelspec": {
   "display_name": "Python 3 (ipykernel)",
   "language": "python",
   "name": "python3"
  },
  "language_info": {
   "codemirror_mode": {
    "name": "ipython",
    "version": 3
   },
   "file_extension": ".py",
   "mimetype": "text/x-python",
   "name": "python",
   "nbconvert_exporter": "python",
   "pygments_lexer": "ipython3",
   "version": "3.12.11"
  }
 },
 "nbformat": 4,
 "nbformat_minor": 5
}
